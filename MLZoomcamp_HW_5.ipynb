{
  "nbformat": 4,
  "nbformat_minor": 0,
  "metadata": {
    "colab": {
      "provenance": [],
      "authorship_tag": "ABX9TyMiymgMbZ0KKgj/yrJPxrFN",
      "include_colab_link": true
    },
    "kernelspec": {
      "name": "python3",
      "display_name": "Python 3"
    },
    "language_info": {
      "name": "python"
    }
  },
  "cells": [
    {
      "cell_type": "markdown",
      "metadata": {
        "id": "view-in-github",
        "colab_type": "text"
      },
      "source": [
        "<a href=\"https://colab.research.google.com/github/AnmolSikandar/MLZOOMCAMP-Homework/blob/main/MLZoomcamp_HW_5.ipynb\" target=\"_parent\"><img src=\"https://colab.research.google.com/assets/colab-badge.svg\" alt=\"Open In Colab\"/></a>"
      ]
    },
    {
      "cell_type": "code",
      "execution_count": null,
      "metadata": {
        "colab": {
          "base_uri": "https://localhost:8080/"
        },
        "id": "9ZLrsgh7OnjY",
        "outputId": "5461eac4-138c-4f67-9198-89cfa2edfcf0"
      },
      "outputs": [
        {
          "output_type": "stream",
          "name": "stdout",
          "text": [
            "Collecting pipenv\n",
            "  Downloading pipenv-2024.2.0-py3-none-any.whl.metadata (19 kB)\n",
            "Requirement already satisfied: certifi in /usr/local/lib/python3.10/dist-packages (from pipenv) (2024.8.30)\n",
            "Requirement already satisfied: packaging>=22 in /usr/local/lib/python3.10/dist-packages (from pipenv) (24.1)\n",
            "Requirement already satisfied: setuptools>=67 in /usr/local/lib/python3.10/dist-packages (from pipenv) (75.1.0)\n",
            "Collecting virtualenv>=20.24.2 (from pipenv)\n",
            "  Downloading virtualenv-20.27.1-py3-none-any.whl.metadata (4.5 kB)\n",
            "Collecting distlib<1,>=0.3.7 (from virtualenv>=20.24.2->pipenv)\n",
            "  Downloading distlib-0.3.9-py2.py3-none-any.whl.metadata (5.2 kB)\n",
            "Requirement already satisfied: filelock<4,>=3.12.2 in /usr/local/lib/python3.10/dist-packages (from virtualenv>=20.24.2->pipenv) (3.16.1)\n",
            "Requirement already satisfied: platformdirs<5,>=3.9.1 in /usr/local/lib/python3.10/dist-packages (from virtualenv>=20.24.2->pipenv) (4.3.6)\n",
            "Downloading pipenv-2024.2.0-py3-none-any.whl (3.0 MB)\n",
            "\u001b[2K   \u001b[90m━━━━━━━━━━━━━━━━━━━━━━━━━━━━━━━━━━━━━━━━\u001b[0m \u001b[32m3.0/3.0 MB\u001b[0m \u001b[31m14.9 MB/s\u001b[0m eta \u001b[36m0:00:00\u001b[0m\n",
            "\u001b[?25hDownloading virtualenv-20.27.1-py3-none-any.whl (3.1 MB)\n",
            "\u001b[2K   \u001b[90m━━━━━━━━━━━━━━━━━━━━━━━━━━━━━━━━━━━━━━━━\u001b[0m \u001b[32m3.1/3.1 MB\u001b[0m \u001b[31m38.2 MB/s\u001b[0m eta \u001b[36m0:00:00\u001b[0m\n",
            "\u001b[?25hDownloading distlib-0.3.9-py2.py3-none-any.whl (468 kB)\n",
            "\u001b[2K   \u001b[90m━━━━━━━━━━━━━━━━━━━━━━━━━━━━━━━━━━━━━━━━\u001b[0m \u001b[32m469.0/469.0 kB\u001b[0m \u001b[31m20.0 MB/s\u001b[0m eta \u001b[36m0:00:00\u001b[0m\n",
            "\u001b[?25hInstalling collected packages: distlib, virtualenv, pipenv\n",
            "Successfully installed distlib-0.3.9 pipenv-2024.2.0 virtualenv-20.27.1\n"
          ]
        }
      ],
      "source": [
        "!pip install pipenv\n"
      ]
    },
    {
      "cell_type": "code",
      "source": [
        "!pipenv --version\n"
      ],
      "metadata": {
        "colab": {
          "base_uri": "https://localhost:8080/"
        },
        "id": "oOB2BZvJcvTn",
        "outputId": "33543eb2-afce-4fad-c698-ce5638627654"
      },
      "execution_count": null,
      "outputs": [
        {
          "output_type": "stream",
          "name": "stdout",
          "text": [
            "\u001b[1mpipenv\u001b[0m, version 2024.2.0\n"
          ]
        }
      ]
    },
    {
      "cell_type": "markdown",
      "source": [
        "Question 2"
      ],
      "metadata": {
        "id": "CFoZyXH4c9-Z"
      }
    },
    {
      "cell_type": "code",
      "source": [
        "\"6cc63febaf327f742e8bee26264e78eeccf6ffc9c25e70f3586af9a3ec0769b9\"\n"
      ],
      "metadata": {
        "colab": {
          "base_uri": "https://localhost:8080/",
          "height": 35
        },
        "id": "7I8DJHP6dlfm",
        "outputId": "aaac7a5a-47c5-4774-c3e2-9bf39a35216a"
      },
      "execution_count": null,
      "outputs": [
        {
          "output_type": "execute_result",
          "data": {
            "text/plain": [
              "'6cc63febaf327f742e8bee26264e78eeccf6ffc9c25e70f3586af9a3ec0769b9'"
            ],
            "application/vnd.google.colaboratory.intrinsic+json": {
              "type": "string"
            }
          },
          "metadata": {},
          "execution_count": 3
        }
      ]
    },
    {
      "cell_type": "code",
      "source": [
        "%pip install wget\n"
      ],
      "metadata": {
        "colab": {
          "base_uri": "https://localhost:8080/"
        },
        "id": "DQrlEs3Kdnzf",
        "outputId": "31504c82-010b-4f2c-d717-ed389ffa8b21"
      },
      "execution_count": null,
      "outputs": [
        {
          "output_type": "stream",
          "name": "stdout",
          "text": [
            "Collecting wget\n",
            "  Downloading wget-3.2.zip (10 kB)\n",
            "  Preparing metadata (setup.py) ... \u001b[?25l\u001b[?25hdone\n",
            "Building wheels for collected packages: wget\n",
            "  Building wheel for wget (setup.py) ... \u001b[?25l\u001b[?25hdone\n",
            "  Created wheel for wget: filename=wget-3.2-py3-none-any.whl size=9656 sha256=78f900574a225fd31aa222ad31447e202ba89d6a395ab8b0f8e731ecaee0baea\n",
            "  Stored in directory: /root/.cache/pip/wheels/8b/f1/7f/5c94f0a7a505ca1c81cd1d9208ae2064675d97582078e6c769\n",
            "Successfully built wget\n",
            "Installing collected packages: wget\n",
            "Successfully installed wget-3.2\n"
          ]
        }
      ]
    },
    {
      "cell_type": "code",
      "source": [
        "# Model Download\n",
        "url='https://raw.githubusercontent.com/DataTalksClub/machine-learning-zoomcamp/master/cohorts/2024/05-deployment/homework'\n",
        "!wget $url/model1.bin\n",
        "!wget $url/dv.bin"
      ],
      "metadata": {
        "colab": {
          "base_uri": "https://localhost:8080/"
        },
        "id": "s7k3bJiOh_D0",
        "outputId": "52878bbf-5612-4007-8e93-1dafd3593ed4"
      },
      "execution_count": null,
      "outputs": [
        {
          "output_type": "stream",
          "name": "stdout",
          "text": [
            "--2024-10-29 13:46:50--  https://raw.githubusercontent.com/DataTalksClub/machine-learning-zoomcamp/master/cohorts/2024/05-deployment/homework/model1.bin\n",
            "Resolving raw.githubusercontent.com (raw.githubusercontent.com)... 185.199.108.133, 185.199.109.133, 185.199.110.133, ...\n",
            "Connecting to raw.githubusercontent.com (raw.githubusercontent.com)|185.199.108.133|:443... connected.\n",
            "HTTP request sent, awaiting response... 200 OK\n",
            "Length: 850 [application/octet-stream]\n",
            "Saving to: ‘model1.bin’\n",
            "\n",
            "model1.bin          100%[===================>]     850  --.-KB/s    in 0s      \n",
            "\n",
            "2024-10-29 13:46:50 (30.4 MB/s) - ‘model1.bin’ saved [850/850]\n",
            "\n",
            "--2024-10-29 13:46:50--  https://raw.githubusercontent.com/DataTalksClub/machine-learning-zoomcamp/master/cohorts/2024/05-deployment/homework/dv.bin\n",
            "Resolving raw.githubusercontent.com (raw.githubusercontent.com)... 185.199.108.133, 185.199.109.133, 185.199.110.133, ...\n",
            "Connecting to raw.githubusercontent.com (raw.githubusercontent.com)|185.199.108.133|:443... connected.\n",
            "HTTP request sent, awaiting response... 200 OK\n",
            "Length: 560 [application/octet-stream]\n",
            "Saving to: ‘dv.bin’\n",
            "\n",
            "dv.bin              100%[===================>]     560  --.-KB/s    in 0s      \n",
            "\n",
            "2024-10-29 13:46:50 (25.9 MB/s) - ‘dv.bin’ saved [560/560]\n",
            "\n"
          ]
        }
      ]
    },
    {
      "cell_type": "markdown",
      "source": [
        "Question 3\n",
        "Let's use these models!\n",
        "\n",
        "Write a script for loading these models with pickle\n",
        "Score this client:\n",
        "{\"job\": \"management\", \"duration\": 400, \"poutcome\": \"success\"}\n",
        "What's the probability that this client will get a subscription?\n",
        "\n",
        "0.359\n",
        "0.559\n",
        "0.759\n",
        "0.959\n",
        "If you're getting errors when unpickling the files, check their checksum:\n",
        "\n",
        "$ md5sum model1.bin dv.bin\n",
        "3d8bb28974e55edefa000fe38fd3ed12  model1.bin\n",
        "7d37616e00aa80f2152b8b0511fc2dff  dv.bin"
      ],
      "metadata": {
        "id": "EYk6XddXihn-"
      }
    },
    {
      "cell_type": "code",
      "source": [
        "import pickle # Import the pickle module\n",
        "\n",
        "with open('model1.bin','rb') as model_in:\n",
        "    model = pickle.load(model_in)"
      ],
      "metadata": {
        "id": "yHBnXuSRij67"
      },
      "execution_count": null,
      "outputs": []
    },
    {
      "cell_type": "code",
      "source": [
        "with open('dv.bin','rb') as dv:\n",
        "    dv = pickle.load(dv)"
      ],
      "metadata": {
        "id": "fPZeaxjHi-2f"
      },
      "execution_count": null,
      "outputs": []
    },
    {
      "cell_type": "code",
      "source": [
        "customer = {\"job\": \"management\", \"duration\": 400, \"poutcome\": \"success\"}"
      ],
      "metadata": {
        "id": "XzjsCpYejGB1"
      },
      "execution_count": null,
      "outputs": []
    },
    {
      "cell_type": "code",
      "source": [
        "X = dv.transform(customer)\n",
        "prediction = model.predict_proba(X)\n",
        "prediction[0,1]"
      ],
      "metadata": {
        "colab": {
          "base_uri": "https://localhost:8080/"
        },
        "id": "QKF-E7PZjMPE",
        "outputId": "8dd5c99f-e174-451d-8e81-bc2e24e377fd"
      },
      "execution_count": null,
      "outputs": [
        {
          "output_type": "execute_result",
          "data": {
            "text/plain": [
              "0.7590966516879658"
            ]
          },
          "metadata": {},
          "execution_count": 11
        }
      ]
    }
  ]
}